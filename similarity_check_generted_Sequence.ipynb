{
 "cells": [
  {
   "cell_type": "code",
   "execution_count": null,
   "metadata": {},
   "outputs": [],
   "source": [
    "# Function to calculate sequence similarity\n",
    "def calculate_similarity(sequence1, sequence2):\n",
    "    alignments = pairwise2.align.globalxx(\n",
    "        str(sequence1), str(sequence2), one_alignment_only=True\n",
    "    )\n",
    "    best_alignment = alignments[0]\n",
    "    alignment_score = best_alignment.score\n",
    "    similarity = alignment_score / max(len(sequence1), len(sequence2)) * 100\n",
    "    return similarity\n"
   ]
  },
  {
   "cell_type": "code",
   "execution_count": null,
   "metadata": {},
   "outputs": [],
   "source": [
    "# Example sequences\n",
    "sequence_denv1 = Seq(\"\")\n",
    "sequence_denv2 = Seq(\"\")\n",
    "\n",
    "# Calculate similarity\n",
    "similarity_percentage = calculate_similarity(sequence_denv1, sequence_denv2)\n"
   ]
  },
  {
   "cell_type": "code",
   "execution_count": null,
   "metadata": {},
   "outputs": [],
   "source": [
    "# Print the result\n",
    "print(f\"Sequence similarity: {similarity_percentage:.2f}%\")\n",
    "print(len(sequence_denv1))  # Generated Sequence\n",
    "print(len(sequence_denv2))  # Actual Sequence From Data\n"
   ]
  }
 ],
 "metadata": {
  "language_info": {
   "name": "python"
  }
 },
 "nbformat": 4,
 "nbformat_minor": 2
}
