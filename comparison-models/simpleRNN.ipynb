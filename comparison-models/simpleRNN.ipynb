{
 "cells": [
  {
   "cell_type": "code",
   "execution_count": null,
   "metadata": {},
   "outputs": [],
   "source": [
    "from tensorflow.keras.layers import Dense, Embedding, SimpleRNN\n",
    "from tensorflow.keras.models import Sequential\n",
    "\n",
    "\n",
    "# Step 3: SimpleRNN Model\n",
    "def build_model(total_words, max_sequence_length):\n",
    "    model = Sequential()\n",
    "    model.add(Embedding(total_words, 50, input_length=max_sequence_length - 1))\n",
    "    model.add(SimpleRNN(100, return_sequences=True))\n",
    "    model.add(SimpleRNN(100))\n",
    "    model.add(Dense(total_words, activation=\"softmax\"))\n",
    "\n",
    "    model.compile(\n",
    "        loss=\"sparse_categorical_crossentropy\", optimizer=\"adam\", metrics=[\"accuracy\"]\n",
    "    )\n",
    "\n",
    "    return model\n",
    "\n",
    "\n",
    "# Build the SimpleRNN model\n",
    "model = build_model(total_words, max_sequence_length)\n",
    "\n",
    "# Print model summary\n",
    "model.summary()\n"
   ]
  }
 ],
 "metadata": {
  "language_info": {
   "name": "python"
  }
 },
 "nbformat": 4,
 "nbformat_minor": 2
}
