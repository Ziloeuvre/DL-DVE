{
 "cells": [
  {
   "cell_type": "code",
   "execution_count": null,
   "metadata": {},
   "outputs": [],
   "source": [
    "# Step 3: GRU Model\n",
    "def build_model(total_words, max_sequence_length):\n",
    "    model = Sequential()\n",
    "    model.add(Embedding(total_words, 50, input_length=max_sequence_length - 1))\n",
    "    model.add(GRU(100, return_sequences=True))\n",
    "    model.add(GRU(100))\n",
    "    model.add(Dense(total_words, activation=\"softmax\"))\n",
    "\n",
    "    model.compile(\n",
    "        loss=\"sparse_categorical_crossentropy\", optimizer=\"adam\", metrics=[\"accuracy\"]\n",
    "    )\n",
    "\n",
    "    return model\n",
    "\n",
    "\n",
    "# Build the model\n",
    "model = build_model(total_words, max_sequence_length)\n",
    "\n",
    "# Print model summary\n",
    "model.summary()\n"
   ]
  }
 ],
 "metadata": {
  "language_info": {
   "name": "python"
  }
 },
 "nbformat": 4,
 "nbformat_minor": 2
}
